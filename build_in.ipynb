{
 "cells": [
  {
   "cell_type": "code",
   "execution_count": 1,
   "id": "11189d43",
   "metadata": {},
   "outputs": [],
   "source": [
    "import matplotlib.pyplot as plt\n",
    "from sklearn.datasets import make_classification\n",
    "from sklearn.linear_model import LogisticRegression\n",
    "from sklearn.model_selection import train_test_split\n",
    "from sklearn.metrics import roc_curve,roc_auc_score,auc\n",
    "import pandas as pd\n",
    "from sklearn.ensemble import RandomForestClassifier\n",
    "from sklearn.model_selection import train_test_split\n",
    "from sklearn.metrics import confusion_matrix\n",
    "from sklearn.metrics import roc_auc_score\n",
    "from sklearn.ensemble import RandomForestClassifier\n",
    "import seaborn as sns\n",
    "from numpy import trapz\n",
    "import numpy as np"
   ]
  },
  {
   "cell_type": "code",
   "execution_count": 2,
   "id": "39744ac8",
   "metadata": {},
   "outputs": [
    {
     "data": {
      "text/html": [
       "<div>\n",
       "<style scoped>\n",
       "    .dataframe tbody tr th:only-of-type {\n",
       "        vertical-align: middle;\n",
       "    }\n",
       "\n",
       "    .dataframe tbody tr th {\n",
       "        vertical-align: top;\n",
       "    }\n",
       "\n",
       "    .dataframe thead th {\n",
       "        text-align: right;\n",
       "    }\n",
       "</style>\n",
       "<table border=\"1\" class=\"dataframe\">\n",
       "  <thead>\n",
       "    <tr style=\"text-align: right;\">\n",
       "      <th></th>\n",
       "      <th>Id</th>\n",
       "      <th>SepalLengthCm</th>\n",
       "      <th>SepalWidthCm</th>\n",
       "      <th>PetalLengthCm</th>\n",
       "      <th>PetalWidthCm</th>\n",
       "      <th>Species</th>\n",
       "    </tr>\n",
       "  </thead>\n",
       "  <tbody>\n",
       "    <tr>\n",
       "      <th>0</th>\n",
       "      <td>1</td>\n",
       "      <td>5.1</td>\n",
       "      <td>3.5</td>\n",
       "      <td>1.4</td>\n",
       "      <td>0.2</td>\n",
       "      <td>Iris-setosa</td>\n",
       "    </tr>\n",
       "    <tr>\n",
       "      <th>1</th>\n",
       "      <td>2</td>\n",
       "      <td>4.9</td>\n",
       "      <td>3.0</td>\n",
       "      <td>1.4</td>\n",
       "      <td>0.2</td>\n",
       "      <td>Iris-setosa</td>\n",
       "    </tr>\n",
       "    <tr>\n",
       "      <th>2</th>\n",
       "      <td>3</td>\n",
       "      <td>4.7</td>\n",
       "      <td>3.2</td>\n",
       "      <td>1.3</td>\n",
       "      <td>0.2</td>\n",
       "      <td>Iris-setosa</td>\n",
       "    </tr>\n",
       "    <tr>\n",
       "      <th>3</th>\n",
       "      <td>4</td>\n",
       "      <td>4.6</td>\n",
       "      <td>3.1</td>\n",
       "      <td>1.5</td>\n",
       "      <td>0.2</td>\n",
       "      <td>Iris-setosa</td>\n",
       "    </tr>\n",
       "    <tr>\n",
       "      <th>4</th>\n",
       "      <td>5</td>\n",
       "      <td>5.0</td>\n",
       "      <td>3.6</td>\n",
       "      <td>1.4</td>\n",
       "      <td>0.2</td>\n",
       "      <td>Iris-setosa</td>\n",
       "    </tr>\n",
       "    <tr>\n",
       "      <th>...</th>\n",
       "      <td>...</td>\n",
       "      <td>...</td>\n",
       "      <td>...</td>\n",
       "      <td>...</td>\n",
       "      <td>...</td>\n",
       "      <td>...</td>\n",
       "    </tr>\n",
       "    <tr>\n",
       "      <th>145</th>\n",
       "      <td>146</td>\n",
       "      <td>6.7</td>\n",
       "      <td>3.0</td>\n",
       "      <td>5.2</td>\n",
       "      <td>2.3</td>\n",
       "      <td>Iris-virginica</td>\n",
       "    </tr>\n",
       "    <tr>\n",
       "      <th>146</th>\n",
       "      <td>147</td>\n",
       "      <td>6.3</td>\n",
       "      <td>2.5</td>\n",
       "      <td>5.0</td>\n",
       "      <td>1.9</td>\n",
       "      <td>Iris-virginica</td>\n",
       "    </tr>\n",
       "    <tr>\n",
       "      <th>147</th>\n",
       "      <td>148</td>\n",
       "      <td>6.5</td>\n",
       "      <td>3.0</td>\n",
       "      <td>5.2</td>\n",
       "      <td>2.0</td>\n",
       "      <td>Iris-virginica</td>\n",
       "    </tr>\n",
       "    <tr>\n",
       "      <th>148</th>\n",
       "      <td>149</td>\n",
       "      <td>6.2</td>\n",
       "      <td>3.4</td>\n",
       "      <td>5.4</td>\n",
       "      <td>2.3</td>\n",
       "      <td>Iris-virginica</td>\n",
       "    </tr>\n",
       "    <tr>\n",
       "      <th>149</th>\n",
       "      <td>150</td>\n",
       "      <td>5.9</td>\n",
       "      <td>3.0</td>\n",
       "      <td>5.1</td>\n",
       "      <td>1.8</td>\n",
       "      <td>Iris-virginica</td>\n",
       "    </tr>\n",
       "  </tbody>\n",
       "</table>\n",
       "<p>150 rows × 6 columns</p>\n",
       "</div>"
      ],
      "text/plain": [
       "      Id  SepalLengthCm  SepalWidthCm  PetalLengthCm  PetalWidthCm  \\\n",
       "0      1            5.1           3.5            1.4           0.2   \n",
       "1      2            4.9           3.0            1.4           0.2   \n",
       "2      3            4.7           3.2            1.3           0.2   \n",
       "3      4            4.6           3.1            1.5           0.2   \n",
       "4      5            5.0           3.6            1.4           0.2   \n",
       "..   ...            ...           ...            ...           ...   \n",
       "145  146            6.7           3.0            5.2           2.3   \n",
       "146  147            6.3           2.5            5.0           1.9   \n",
       "147  148            6.5           3.0            5.2           2.0   \n",
       "148  149            6.2           3.4            5.4           2.3   \n",
       "149  150            5.9           3.0            5.1           1.8   \n",
       "\n",
       "            Species  \n",
       "0       Iris-setosa  \n",
       "1       Iris-setosa  \n",
       "2       Iris-setosa  \n",
       "3       Iris-setosa  \n",
       "4       Iris-setosa  \n",
       "..              ...  \n",
       "145  Iris-virginica  \n",
       "146  Iris-virginica  \n",
       "147  Iris-virginica  \n",
       "148  Iris-virginica  \n",
       "149  Iris-virginica  \n",
       "\n",
       "[150 rows x 6 columns]"
      ]
     },
     "execution_count": 2,
     "metadata": {},
     "output_type": "execute_result"
    }
   ],
   "source": [
    "df=pd.read_csv(\"iris.csv\")\n",
    "df"
   ]
  },
  {
   "cell_type": "code",
   "execution_count": 3,
   "id": "5c6efc35",
   "metadata": {},
   "outputs": [
    {
     "data": {
      "text/plain": [
       "Iris-setosa        50\n",
       "Iris-versicolor    50\n",
       "Iris-virginica     50\n",
       "Name: Species, dtype: int64"
      ]
     },
     "execution_count": 3,
     "metadata": {},
     "output_type": "execute_result"
    }
   ],
   "source": [
    "df['Species'].value_counts()"
   ]
  },
  {
   "cell_type": "code",
   "execution_count": 4,
   "id": "8a34dadd",
   "metadata": {},
   "outputs": [
    {
     "data": {
      "text/plain": [
       "Id               0\n",
       "SepalLengthCm    0\n",
       "SepalWidthCm     0\n",
       "PetalLengthCm    0\n",
       "PetalWidthCm     0\n",
       "Species          0\n",
       "dtype: int64"
      ]
     },
     "execution_count": 4,
     "metadata": {},
     "output_type": "execute_result"
    }
   ],
   "source": [
    "df.isnull().sum()"
   ]
  },
  {
   "cell_type": "code",
   "execution_count": 5,
   "id": "7dbd2211",
   "metadata": {},
   "outputs": [],
   "source": [
    "X=df.drop(columns=\"Species\")\n",
    "y=df[\"Species\"]"
   ]
  },
  {
   "cell_type": "code",
   "execution_count": 6,
   "id": "ee6df51a",
   "metadata": {},
   "outputs": [],
   "source": [
    "X_train,X_test,y_train,y_test=train_test_split(X,y,test_size=0.98,random_state=42)"
   ]
  },
  {
   "cell_type": "code",
   "execution_count": 7,
   "id": "7a2c6d25",
   "metadata": {},
   "outputs": [],
   "source": [
    "lr=LogisticRegression(multi_class='ovr')"
   ]
  },
  {
   "cell_type": "code",
   "execution_count": 8,
   "id": "9dd35ea7",
   "metadata": {},
   "outputs": [
    {
     "data": {
      "text/html": [
       "<style>#sk-container-id-1 {color: black;background-color: white;}#sk-container-id-1 pre{padding: 0;}#sk-container-id-1 div.sk-toggleable {background-color: white;}#sk-container-id-1 label.sk-toggleable__label {cursor: pointer;display: block;width: 100%;margin-bottom: 0;padding: 0.3em;box-sizing: border-box;text-align: center;}#sk-container-id-1 label.sk-toggleable__label-arrow:before {content: \"▸\";float: left;margin-right: 0.25em;color: #696969;}#sk-container-id-1 label.sk-toggleable__label-arrow:hover:before {color: black;}#sk-container-id-1 div.sk-estimator:hover label.sk-toggleable__label-arrow:before {color: black;}#sk-container-id-1 div.sk-toggleable__content {max-height: 0;max-width: 0;overflow: hidden;text-align: left;background-color: #f0f8ff;}#sk-container-id-1 div.sk-toggleable__content pre {margin: 0.2em;color: black;border-radius: 0.25em;background-color: #f0f8ff;}#sk-container-id-1 input.sk-toggleable__control:checked~div.sk-toggleable__content {max-height: 200px;max-width: 100%;overflow: auto;}#sk-container-id-1 input.sk-toggleable__control:checked~label.sk-toggleable__label-arrow:before {content: \"▾\";}#sk-container-id-1 div.sk-estimator input.sk-toggleable__control:checked~label.sk-toggleable__label {background-color: #d4ebff;}#sk-container-id-1 div.sk-label input.sk-toggleable__control:checked~label.sk-toggleable__label {background-color: #d4ebff;}#sk-container-id-1 input.sk-hidden--visually {border: 0;clip: rect(1px 1px 1px 1px);clip: rect(1px, 1px, 1px, 1px);height: 1px;margin: -1px;overflow: hidden;padding: 0;position: absolute;width: 1px;}#sk-container-id-1 div.sk-estimator {font-family: monospace;background-color: #f0f8ff;border: 1px dotted black;border-radius: 0.25em;box-sizing: border-box;margin-bottom: 0.5em;}#sk-container-id-1 div.sk-estimator:hover {background-color: #d4ebff;}#sk-container-id-1 div.sk-parallel-item::after {content: \"\";width: 100%;border-bottom: 1px solid gray;flex-grow: 1;}#sk-container-id-1 div.sk-label:hover label.sk-toggleable__label {background-color: #d4ebff;}#sk-container-id-1 div.sk-serial::before {content: \"\";position: absolute;border-left: 1px solid gray;box-sizing: border-box;top: 0;bottom: 0;left: 50%;z-index: 0;}#sk-container-id-1 div.sk-serial {display: flex;flex-direction: column;align-items: center;background-color: white;padding-right: 0.2em;padding-left: 0.2em;position: relative;}#sk-container-id-1 div.sk-item {position: relative;z-index: 1;}#sk-container-id-1 div.sk-parallel {display: flex;align-items: stretch;justify-content: center;background-color: white;position: relative;}#sk-container-id-1 div.sk-item::before, #sk-container-id-1 div.sk-parallel-item::before {content: \"\";position: absolute;border-left: 1px solid gray;box-sizing: border-box;top: 0;bottom: 0;left: 50%;z-index: -1;}#sk-container-id-1 div.sk-parallel-item {display: flex;flex-direction: column;z-index: 1;position: relative;background-color: white;}#sk-container-id-1 div.sk-parallel-item:first-child::after {align-self: flex-end;width: 50%;}#sk-container-id-1 div.sk-parallel-item:last-child::after {align-self: flex-start;width: 50%;}#sk-container-id-1 div.sk-parallel-item:only-child::after {width: 0;}#sk-container-id-1 div.sk-dashed-wrapped {border: 1px dashed gray;margin: 0 0.4em 0.5em 0.4em;box-sizing: border-box;padding-bottom: 0.4em;background-color: white;}#sk-container-id-1 div.sk-label label {font-family: monospace;font-weight: bold;display: inline-block;line-height: 1.2em;}#sk-container-id-1 div.sk-label-container {text-align: center;}#sk-container-id-1 div.sk-container {/* jupyter's `normalize.less` sets `[hidden] { display: none; }` but bootstrap.min.css set `[hidden] { display: none !important; }` so we also need the `!important` here to be able to override the default hidden behavior on the sphinx rendered scikit-learn.org. See: https://github.com/scikit-learn/scikit-learn/issues/21755 */display: inline-block !important;position: relative;}#sk-container-id-1 div.sk-text-repr-fallback {display: none;}</style><div id=\"sk-container-id-1\" class=\"sk-top-container\"><div class=\"sk-text-repr-fallback\"><pre>LogisticRegression(multi_class=&#x27;ovr&#x27;)</pre><b>In a Jupyter environment, please rerun this cell to show the HTML representation or trust the notebook. <br />On GitHub, the HTML representation is unable to render, please try loading this page with nbviewer.org.</b></div><div class=\"sk-container\" hidden><div class=\"sk-item\"><div class=\"sk-estimator sk-toggleable\"><input class=\"sk-toggleable__control sk-hidden--visually\" id=\"sk-estimator-id-1\" type=\"checkbox\" checked><label for=\"sk-estimator-id-1\" class=\"sk-toggleable__label sk-toggleable__label-arrow\">LogisticRegression</label><div class=\"sk-toggleable__content\"><pre>LogisticRegression(multi_class=&#x27;ovr&#x27;)</pre></div></div></div></div></div>"
      ],
      "text/plain": [
       "LogisticRegression(multi_class='ovr')"
      ]
     },
     "execution_count": 8,
     "metadata": {},
     "output_type": "execute_result"
    }
   ],
   "source": [
    "lr.fit(X_train,y_train)"
   ]
  },
  {
   "cell_type": "code",
   "execution_count": 9,
   "id": "4a921689",
   "metadata": {},
   "outputs": [
    {
     "data": {
      "text/plain": [
       "array([[1.33970986e-01, 8.66020384e-01, 8.62997997e-06],\n",
       "       [9.55866427e-01, 4.41335730e-02, 1.98137298e-19],\n",
       "       [1.79724916e-05, 2.84993544e-01, 7.14988483e-01],\n",
       "       [5.08843761e-02, 9.49010283e-01, 1.05340885e-04],\n",
       "       [1.02598193e-01, 8.97344634e-01, 5.71728461e-05],\n",
       "       [8.82879372e-01, 1.17120628e-01, 1.98895422e-16],\n",
       "       [3.46123830e-01, 6.53876131e-01, 3.92671774e-08],\n",
       "       [3.29524163e-07, 4.74598197e-01, 5.25401473e-01],\n",
       "       [2.83485197e-01, 7.16514235e-01, 5.68286759e-07],\n",
       "       [1.74201763e-02, 9.82046030e-01, 5.33793468e-04],\n",
       "       [5.72289144e-05, 3.81514803e-01, 6.18427968e-01],\n",
       "       [9.38989192e-01, 6.10108080e-02, 6.77302446e-21],\n",
       "       [8.36827763e-01, 1.63172237e-01, 2.83808900e-15],\n",
       "       [9.53624199e-01, 4.63758006e-02, 1.39061157e-21],\n",
       "       [9.35399911e-01, 6.46000886e-02, 3.12502364e-19],\n",
       "       [8.40229411e-01, 1.59770589e-01, 5.74392132e-10],\n",
       "       [1.71313123e-04, 3.04984868e-01, 6.94843819e-01],\n",
       "       [1.70774228e-01, 8.29225168e-01, 6.03672851e-07],\n",
       "       [7.90758855e-01, 2.09241145e-01, 2.60996395e-10],\n",
       "       [1.44262030e-06, 4.58204286e-01, 5.41794271e-01],\n",
       "       [8.63539692e-01, 1.36460308e-01, 6.22425267e-17],\n",
       "       [3.19883246e-06, 4.66209539e-01, 5.33787262e-01],\n",
       "       [9.01367325e-01, 9.86326749e-02, 1.32351635e-17],\n",
       "       [2.79740504e-06, 4.48449692e-01, 5.51547510e-01],\n",
       "       [1.94104235e-06, 3.77868336e-01, 6.22129723e-01],\n",
       "       [1.70739195e-07, 4.81146021e-01, 5.18853809e-01],\n",
       "       [8.34492042e-05, 3.43551510e-01, 6.56365041e-01],\n",
       "       [2.40799115e-07, 4.67656468e-01, 5.32343291e-01],\n",
       "       [6.84756040e-01, 3.15243960e-01, 3.45298947e-13],\n",
       "       [8.59012417e-01, 1.40987583e-01, 1.07092850e-16],\n",
       "       [8.82071032e-01, 1.17928968e-01, 1.35394254e-18],\n",
       "       [9.64424813e-01, 3.55751868e-02, 3.94950974e-20],\n",
       "       [4.85749770e-01, 5.14250101e-01, 1.29317788e-07],\n",
       "       [9.52036692e-01, 4.79633075e-02, 4.14260263e-21],\n",
       "       [7.01936369e-01, 2.98063631e-01, 6.15727024e-14],\n",
       "       [1.43337513e-07, 4.88826995e-01, 5.11172862e-01],\n",
       "       [9.09190549e-01, 9.08094510e-02, 2.64658814e-11],\n",
       "       [8.96254083e-01, 1.03745917e-01, 2.25330314e-17],\n",
       "       [9.69011805e-01, 3.09881952e-02, 9.64999717e-23],\n",
       "       [8.73834321e-01, 1.26165679e-01, 3.34750282e-16],\n",
       "       [2.73814106e-07, 4.87310785e-01, 5.12688942e-01],\n",
       "       [1.38691790e-02, 9.82260236e-01, 3.87058484e-03],\n",
       "       [1.39144187e-02, 9.77793628e-01, 8.29195353e-03],\n",
       "       [9.49007420e-01, 5.09925797e-02, 6.32660993e-20],\n",
       "       [9.64605963e-01, 3.53940373e-02, 2.54304228e-21],\n",
       "       [1.78447623e-02, 9.81898840e-01, 2.56398033e-04],\n",
       "       [1.19615105e-06, 4.74816687e-01, 5.25182117e-01],\n",
       "       [6.30363185e-07, 4.71632353e-01, 5.28367017e-01],\n",
       "       [1.03604789e-01, 8.96367944e-01, 2.72664824e-05],\n",
       "       [7.98560989e-05, 2.60656049e-01, 7.39264095e-01],\n",
       "       [8.98895195e-04, 6.58940210e-01, 3.40160894e-01],\n",
       "       [1.64431554e-04, 2.04313309e-01, 7.95522259e-01],\n",
       "       [3.51769099e-01, 6.48230727e-01, 1.73968615e-07],\n",
       "       [9.76241574e-01, 2.37584262e-02, 1.13016312e-23],\n",
       "       [8.84258317e-06, 3.31744247e-01, 6.68246910e-01],\n",
       "       [2.60325377e-01, 7.39674382e-01, 2.40526358e-07],\n",
       "       [8.84426365e-01, 1.15573635e-01, 3.77615068e-17],\n",
       "       [7.73376915e-01, 2.26623085e-01, 2.32973443e-14],\n",
       "       [7.78948525e-01, 2.21051475e-01, 2.43201361e-13],\n",
       "       [4.19262099e-01, 5.80737898e-01, 2.97316504e-09],\n",
       "       [6.20228032e-06, 4.56036274e-01, 5.43957523e-01],\n",
       "       [9.12586337e-01, 8.74136628e-02, 4.57270439e-18],\n",
       "       [8.96329354e-01, 1.03670646e-01, 7.52111112e-18],\n",
       "       [9.22959345e-01, 7.70406549e-02, 2.72828209e-18],\n",
       "       [1.55591958e-03, 8.13686834e-01, 1.84757246e-01],\n",
       "       [7.97319963e-01, 2.02680037e-01, 1.40497757e-14],\n",
       "       [1.20494322e-03, 7.36250786e-01, 2.62544270e-01],\n",
       "       [2.18346883e-05, 2.64037322e-01, 7.35940843e-01],\n",
       "       [6.37955842e-01, 3.62044158e-01, 1.01339071e-12],\n",
       "       [6.99334338e-04, 5.58574919e-01, 4.40725746e-01],\n",
       "       [3.22233280e-05, 4.34596664e-01, 5.65371113e-01],\n",
       "       [8.78749014e-01, 1.21250986e-01, 5.91177634e-16],\n",
       "       [5.26062952e-07, 4.84243010e-01, 5.15756463e-01],\n",
       "       [2.66838775e-04, 3.93187878e-01, 6.06545284e-01],\n",
       "       [4.65106961e-01, 5.34893024e-01, 1.42605341e-08],\n",
       "       [1.36410078e-02, 9.84567218e-01, 1.79177380e-03],\n",
       "       [1.04564823e-07, 4.84892639e-01, 5.15107257e-01],\n",
       "       [7.75480969e-01, 2.24519031e-01, 6.71795150e-11],\n",
       "       [9.78209939e-01, 2.17900607e-02, 1.80039781e-22],\n",
       "       [1.64290919e-03, 9.09584378e-01, 8.87727130e-02],\n",
       "       [4.77137834e-05, 3.92629327e-01, 6.07322959e-01],\n",
       "       [6.22490670e-01, 3.77509330e-01, 3.32849729e-12],\n",
       "       [8.07851149e-01, 1.92148851e-01, 1.50254994e-15],\n",
       "       [2.22575455e-02, 9.77580839e-01, 1.61615523e-04],\n",
       "       [9.64282951e-02, 9.03460125e-01, 1.11579609e-04],\n",
       "       [8.24336340e-01, 1.75663660e-01, 9.01753125e-16],\n",
       "       [2.79717749e-05, 4.22940062e-01, 5.77031966e-01],\n",
       "       [9.63325463e-01, 3.66745374e-02, 4.86558565e-22],\n",
       "       [7.65718611e-01, 2.34281389e-01, 1.30616446e-13],\n",
       "       [2.51308048e-01, 7.48689856e-01, 2.09541065e-06],\n",
       "       [4.60639320e-04, 6.06192247e-01, 3.93347114e-01],\n",
       "       [1.12375117e-05, 3.88913019e-01, 6.11075744e-01],\n",
       "       [2.30209419e-02, 9.75306059e-01, 1.67299915e-03],\n",
       "       [1.01669468e-06, 4.73838626e-01, 5.26160357e-01],\n",
       "       [9.44371948e-07, 4.23067617e-01, 5.76931439e-01],\n",
       "       [4.40133448e-03, 9.77916367e-01, 1.76822985e-02],\n",
       "       [9.43683105e-01, 5.63168946e-02, 7.67364425e-22],\n",
       "       [9.11672739e-01, 8.83272609e-02, 1.05599893e-20],\n",
       "       [1.18014604e-05, 4.55866734e-01, 5.44121464e-01],\n",
       "       [4.90650173e-06, 4.02602003e-01, 5.97393090e-01],\n",
       "       [9.64193526e-01, 3.58064743e-02, 5.44210218e-23],\n",
       "       [9.36542657e-01, 6.34573431e-02, 1.04535818e-19],\n",
       "       [7.46209130e-01, 2.53790870e-01, 6.98417633e-15],\n",
       "       [1.82839629e-01, 8.17154215e-01, 6.15578455e-06],\n",
       "       [7.51712284e-07, 4.63006612e-01, 5.36992637e-01],\n",
       "       [9.58491753e-01, 4.15082465e-02, 2.73042759e-22],\n",
       "       [4.25370770e-05, 3.63087144e-01, 6.36870319e-01],\n",
       "       [3.86585122e-04, 2.81226711e-01, 7.18386704e-01],\n",
       "       [9.65009668e-01, 3.49903323e-02, 3.14076033e-23],\n",
       "       [5.51196745e-01, 4.48803218e-01, 3.72398736e-08],\n",
       "       [8.69099127e-01, 1.30900873e-01, 1.64403538e-10],\n",
       "       [3.76187697e-06, 4.65650392e-01, 5.34345846e-01],\n",
       "       [9.40135307e-01, 5.98646932e-02, 1.57960531e-11],\n",
       "       [2.48634414e-05, 3.97292162e-01, 6.02682975e-01],\n",
       "       [7.18776060e-01, 2.81223940e-01, 6.82105270e-13],\n",
       "       [4.59423730e-07, 4.68430336e-01, 5.31569204e-01],\n",
       "       [5.81258515e-01, 4.18741475e-01, 9.63567830e-09],\n",
       "       [1.22715311e-07, 4.85782911e-01, 5.14216967e-01],\n",
       "       [2.61956748e-02, 9.73711550e-01, 9.27751029e-05],\n",
       "       [5.59007735e-01, 4.40992263e-01, 2.24042829e-09],\n",
       "       [3.90326006e-03, 9.26050534e-01, 7.00462060e-02],\n",
       "       [7.01220485e-01, 2.98779515e-01, 3.47933004e-14],\n",
       "       [7.77731639e-01, 2.22268359e-01, 1.92080519e-09],\n",
       "       [3.89332725e-03, 9.63598907e-01, 3.25077660e-02],\n",
       "       [6.82609792e-01, 3.17390208e-01, 2.09564998e-12],\n",
       "       [5.78889700e-03, 9.82286179e-01, 1.19249237e-02],\n",
       "       [1.09452113e-04, 2.66280217e-01, 7.33610331e-01],\n",
       "       [5.62497863e-06, 4.17970846e-01, 5.82023529e-01],\n",
       "       [9.28089002e-01, 7.19109983e-02, 9.15549885e-19],\n",
       "       [5.28587471e-01, 4.71412528e-01, 5.12720002e-10],\n",
       "       [2.03683347e-07, 4.71616262e-01, 5.28383535e-01],\n",
       "       [2.44769604e-06, 4.33128310e-01, 5.66869243e-01],\n",
       "       [7.96714434e-01, 2.03285566e-01, 4.52518749e-15],\n",
       "       [3.90976810e-07, 4.67585575e-01, 5.32414034e-01],\n",
       "       [9.69959198e-01, 3.00408023e-02, 1.87820072e-23],\n",
       "       [9.27471501e-01, 7.25284987e-02, 5.38000742e-11],\n",
       "       [2.12591371e-06, 4.19758562e-01, 5.80239312e-01],\n",
       "       [1.95334974e-04, 3.37433759e-01, 6.62370906e-01],\n",
       "       [3.84557600e-04, 4.96930671e-01, 5.02684771e-01],\n",
       "       [2.09115294e-05, 4.04104033e-01, 5.95875055e-01],\n",
       "       [8.21790770e-03, 9.82751419e-01, 9.03067313e-03],\n",
       "       [1.09905551e-01, 8.90080478e-01, 1.39710014e-05],\n",
       "       [8.49717416e-06, 4.60028132e-01, 5.39963371e-01],\n",
       "       [8.81077986e-08, 4.91197449e-01, 5.08802463e-01],\n",
       "       [9.38899716e-01, 6.11002841e-02, 5.53552532e-19],\n",
       "       [1.53490800e-01, 8.46506899e-01, 2.30039931e-06],\n",
       "       [9.82517075e-05, 4.48734136e-01, 5.51167612e-01]])"
      ]
     },
     "execution_count": 9,
     "metadata": {},
     "output_type": "execute_result"
    }
   ],
   "source": [
    "y_proba =lr.predict_proba(X_test)\n",
    "y_proba"
   ]
  },
  {
   "cell_type": "code",
   "execution_count": 10,
   "id": "dd25d24a",
   "metadata": {},
   "outputs": [],
   "source": [
    "def calculate_tpr_fpr(y_actual, y_hat,threshold):\n",
    "    tp = 0\n",
    "    fp = 0\n",
    "    tn = 0\n",
    "    fn = 0\n",
    "    \n",
    "    for i in range(len(y_hat)): \n",
    "        if(y_hat[i] >= threshold):\n",
    "            if(y_actual[i] == 1):\n",
    "                tp += 1\n",
    "            else:\n",
    "                fp += 1\n",
    "        elif(y_hat[i] < threshold):\n",
    "            if(y_actual[i] == 0):\n",
    "                tn += 1\n",
    "            else:\n",
    "                fn += 1\n",
    "                \n",
    "    tpr = tp/(tp+fn)\n",
    "    fpr = fp/(tn+fp)\n",
    "\n",
    "    return tpr,fpr"
   ]
  },
  {
   "cell_type": "code",
   "execution_count": 11,
   "id": "eb915c6f",
   "metadata": {},
   "outputs": [
    {
     "data": {
      "text/plain": [
       "array(['Iris-setosa', 'Iris-versicolor', 'Iris-virginica'], dtype=object)"
      ]
     },
     "execution_count": 11,
     "metadata": {},
     "output_type": "execute_result"
    }
   ],
   "source": [
    "classes = lr.classes_\n",
    "classes"
   ]
  },
  {
   "cell_type": "code",
   "execution_count": 17,
   "id": "19aa7914",
   "metadata": {},
   "outputs": [
    {
     "ename": "ValueError",
     "evalue": "The truth value of an array with more than one element is ambiguous. Use a.any() or a.all()",
     "output_type": "error",
     "traceback": [
      "\u001b[1;31m---------------------------------------------------------------------------\u001b[0m",
      "\u001b[1;31mValueError\u001b[0m                                Traceback (most recent call last)",
      "\u001b[1;32mc:\\Users\\aisha\\OneDrive\\Desktop\\roc\\build_in.ipynb Cell 12\u001b[0m line \u001b[0;36m1\n\u001b[0;32m     <a href='vscode-notebook-cell:/c%3A/Users/aisha/OneDrive/Desktop/roc/build_in.ipynb#X14sZmlsZQ%3D%3D?line=12'>13</a>\u001b[0m     thresholds \u001b[39m=\u001b[39m np\u001b[39m.\u001b[39mlinspace(\u001b[39m0\u001b[39m,\u001b[39m1\u001b[39m,\u001b[39m1000\u001b[39m)\n\u001b[0;32m     <a href='vscode-notebook-cell:/c%3A/Users/aisha/OneDrive/Desktop/roc/build_in.ipynb#X14sZmlsZQ%3D%3D?line=14'>15</a>\u001b[0m     ax \u001b[39m=\u001b[39m plt\u001b[39m.\u001b[39msubplot(\u001b[39m2\u001b[39m, \u001b[39m3\u001b[39m, i\u001b[39m+\u001b[39m\u001b[39m4\u001b[39m)\n\u001b[1;32m---> <a href='vscode-notebook-cell:/c%3A/Users/aisha/OneDrive/Desktop/roc/build_in.ipynb#X14sZmlsZQ%3D%3D?line=15'>16</a>\u001b[0m     tpr, fpr \u001b[39m=\u001b[39m calculate_tpr_fpr(df_aux[\u001b[39m'\u001b[39;49m\u001b[39mclass\u001b[39;49m\u001b[39m'\u001b[39;49m], df_aux[\u001b[39m'\u001b[39;49m\u001b[39mprob\u001b[39;49m\u001b[39m'\u001b[39;49m],thresholds)    \n\u001b[0;32m     <a href='vscode-notebook-cell:/c%3A/Users/aisha/OneDrive/Desktop/roc/build_in.ipynb#X14sZmlsZQ%3D%3D?line=16'>17</a>\u001b[0m \u001b[39m#     print(tpr)\u001b[39;00m\n\u001b[0;32m     <a href='vscode-notebook-cell:/c%3A/Users/aisha/OneDrive/Desktop/roc/build_in.ipynb#X14sZmlsZQ%3D%3D?line=17'>18</a>\u001b[0m     sns\u001b[39m.\u001b[39mlineplot(x \u001b[39m=\u001b[39m fpr, y \u001b[39m=\u001b[39m tpr, ax \u001b[39m=\u001b[39m ax)\n",
      "\u001b[1;32mc:\\Users\\aisha\\OneDrive\\Desktop\\roc\\build_in.ipynb Cell 12\u001b[0m line \u001b[0;36m8\n\u001b[0;32m      <a href='vscode-notebook-cell:/c%3A/Users/aisha/OneDrive/Desktop/roc/build_in.ipynb#X14sZmlsZQ%3D%3D?line=4'>5</a>\u001b[0m fn \u001b[39m=\u001b[39m \u001b[39m0\u001b[39m\n\u001b[0;32m      <a href='vscode-notebook-cell:/c%3A/Users/aisha/OneDrive/Desktop/roc/build_in.ipynb#X14sZmlsZQ%3D%3D?line=6'>7</a>\u001b[0m \u001b[39mfor\u001b[39;00m i \u001b[39min\u001b[39;00m \u001b[39mrange\u001b[39m(\u001b[39mlen\u001b[39m(y_hat)): \n\u001b[1;32m----> <a href='vscode-notebook-cell:/c%3A/Users/aisha/OneDrive/Desktop/roc/build_in.ipynb#X14sZmlsZQ%3D%3D?line=7'>8</a>\u001b[0m     \u001b[39mif\u001b[39;00m(y_hat[i] \u001b[39m>\u001b[39m\u001b[39m=\u001b[39m threshold):\n\u001b[0;32m      <a href='vscode-notebook-cell:/c%3A/Users/aisha/OneDrive/Desktop/roc/build_in.ipynb#X14sZmlsZQ%3D%3D?line=8'>9</a>\u001b[0m         \u001b[39mif\u001b[39;00m(y_actual[i] \u001b[39m==\u001b[39m \u001b[39m1\u001b[39m):\n\u001b[0;32m     <a href='vscode-notebook-cell:/c%3A/Users/aisha/OneDrive/Desktop/roc/build_in.ipynb#X14sZmlsZQ%3D%3D?line=9'>10</a>\u001b[0m             tp \u001b[39m+\u001b[39m\u001b[39m=\u001b[39m \u001b[39m1\u001b[39m\n",
      "\u001b[1;31mValueError\u001b[0m: The truth value of an array with more than one element is ambiguous. Use a.any() or a.all()"
     ]
    },
    {
     "data": {
      "image/png": "[encoded data removed]",
      "text/plain": [
       "<Figure size 1200x800 with 1 Axes>"
      ]
     },
     "metadata": {},
     "output_type": "display_data"
    }
   ],
   "source": [
    "plt.figure(figsize = (12, 8))\n",
    "roc_auc_ovr = {}\n",
    "for i in range(len(classes)):\n",
    "    # Get class\n",
    "    c = classes[i]\n",
    "    \n",
    "    # Prepares an auxiliar dataframe to help with the plots\n",
    "    df_aux = X_test.copy()\n",
    "    df_aux['class'] = [1 if y == c else 0 for y in y_test]\n",
    "    df_aux['prob'] = y_proba[:, i]\n",
    "    df_aux = df_aux.reset_index(drop = True)\n",
    "    \n",
    "\n",
    "    \n",
    "    ax = plt.subplot(2, 3, i+4)\n",
    "    tpr, fpr = calculate_tpr_fpr(df_aux['class'], df_aux['prob'])    \n",
    "#     print(tpr)\n",
    "    sns.lineplot(x = fpr, y = tpr, ax = ax)\n",
    "    sns.lineplot(x = [0, 1], y = [0, 1], color = 'green', ax = ax)\n",
    "    plt.xlim(-0.03, 1)\n",
    "    plt.ylim(0, 1.05)\n",
    "    plt.xlabel(\"False Positive Rate\")\n",
    "    plt.ylabel(\"True Positive Rate\")\n",
    "    ax.set_title(f\"ROC Curve {c}\")\n",
    "\n",
    "    roc_auc_ovr[c] = roc_auc_score(df_aux['class'], df_aux['prob'])\n",
    "    \n",
    "plt.tight_layout()"
   ]
  },
  {
   "cell_type": "code",
   "execution_count": 18,
   "id": "08016093",
   "metadata": {},
   "outputs": [
    {
     "name": "stdout",
     "output_type": "stream",
     "text": [
      "Iris-setosa\n",
      "Iris-versicolor\n",
      "Iris-virginica\n"
     ]
    },
    {
     "data": {
      "image/png": "[encoded data removed]",
      "text/plain": [
       "<Figure size 1200x800 with 3 Axes>"
      ]
     },
     "metadata": {},
     "output_type": "display_data"
    }
   ],
   "source": [
    "plt.figure(figsize = (12, 8))\n",
    "roc_auc_ovr = {}\n",
    "for i in range(3):\n",
    "    # Gets the class\n",
    "    c = classes[i]\n",
    "    \n",
    "    # Prepares an auxiliar dataframe to help with the plots\n",
    "    df_aux = X_test.copy()\n",
    "    df_aux['class'] = [1 if y == c else 0 for y in y_test]\n",
    "    df_aux['prob'] = y_proba[:, i]\n",
    "    df_aux = df_aux.reset_index(drop = True)\n",
    "    thresholds = np.linspace(0,1,1000)\n",
    "    fpr_list = []\n",
    "    tpr_list = []\n",
    "    roc_points = []\n",
    "    for threshold in thresholds:\n",
    "        tpr,fpr = calculate_tpr_fpr(df_aux['class'], df_aux['prob'], threshold)\n",
    "        tpr_list.append(tpr)\n",
    "        fpr_list.append(fpr)\n",
    "    print(c)\n",
    "    \n",
    "    ax = plt.subplot(2, 3, i+4)\n",
    "#     tpr, fpr = roc_values(df_aux['class'], df_aux['prob'])    \n",
    "#     print(tpr)\n",
    "    plt.plot(fpr_list, tpr_list)\n",
    "#     sns.lineplot(x = [0, 1], y = [0, 1], color = 'green', ax = ax)\n",
    "    plt.xlim(-0.03, 1)\n",
    "    plt.ylim(0, 1.05)\n",
    "    plt.xlabel(\"False Positive Rate\")\n",
    "    plt.ylabel(\"True Positive Rate\")\n",
    "    ax.set_title(f\"ROC Curve {c}\")\n",
    "\n",
    "    roc_auc_ovr[c] = roc_auc_score(df_aux['class'], df_aux['prob'])\n",
    "    \n",
    "plt.tight_layout()"
   ]
  },
  {
   "cell_type": "code",
   "execution_count": 14,
   "id": "ff1891ac",
   "metadata": {},
   "outputs": [
    {
     "data": {
      "text/plain": [
       "{'Iris-setosa': 0.967930029154519,\n",
       " 'Iris-versicolor': 0.8688046647230321,\n",
       " 'Iris-virginica': 1.0}"
      ]
     },
     "execution_count": 14,
     "metadata": {},
     "output_type": "execute_result"
    }
   ],
   "source": [
    "roc_auc_ovr"
   ]
  },
  {
   "cell_type": "code",
   "execution_count": 15,
   "id": "c3a429ea",
   "metadata": {},
   "outputs": [],
   "source": [
    "sum_auc=0\n",
    "for c in classes:\n",
    "    auc=roc_auc_ovr[c]\n",
    "    sum_auc=auc+sum_auc"
   ]
  },
  {
   "cell_type": "code",
   "execution_count": 16,
   "id": "3f137cd2",
   "metadata": {},
   "outputs": [
    {
     "data": {
      "text/plain": [
       "0.945578231292517"
      ]
     },
     "execution_count": 16,
     "metadata": {},
     "output_type": "execute_result"
    }
   ],
   "source": [
    "avg_auc=sum_auc/len(classes)\n",
    "avg_auc"
   ]
  },
  {
   "cell_type": "code",
   "execution_count": null,
   "id": "1a59768c",
   "metadata": {},
   "outputs": [],
   "source": []
  },
  {
   "cell_type": "code",
   "execution_count": null,
   "id": "26484639",
   "metadata": {},
   "outputs": [],
   "source": []
  },
  {
   "cell_type": "code",
   "execution_count": null,
   "id": "63470099",
   "metadata": {},
   "outputs": [],
   "source": []
  },
  {
   "cell_type": "code",
   "execution_count": null,
   "id": "0adb3ce5",
   "metadata": {},
   "outputs": [],
   "source": []
  }
 ],
 "metadata": {
  "kernelspec": {
   "display_name": "Python 3 (ipykernel)",
   "language": "python",
   "name": "python3"
  },
  "language_info": {
   "codemirror_mode": {
    "name": "ipython",
    "version": 3
   },
   "file_extension": ".py",
   "mimetype": "text/x-python",
   "name": "python",
   "nbconvert_exporter": "python",
   "pygments_lexer": "ipython3",
   "version": "3.11.2"
  }
 },
 "nbformat": 4,
 "nbformat_minor": 5
}
